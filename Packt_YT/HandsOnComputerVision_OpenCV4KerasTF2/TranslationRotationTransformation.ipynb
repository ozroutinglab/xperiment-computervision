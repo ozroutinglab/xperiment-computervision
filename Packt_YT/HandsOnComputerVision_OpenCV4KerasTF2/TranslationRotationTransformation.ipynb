{
  "nbformat": 4,
  "nbformat_minor": 0,
  "metadata": {
    "colab": {
      "provenance": [],
      "authorship_tag": "ABX9TyN8tZRtchUAlllJUs2I52F9",
      "include_colab_link": true
    },
    "kernelspec": {
      "name": "python3",
      "display_name": "Python 3"
    },
    "language_info": {
      "name": "python"
    }
  },
  "cells": [
    {
      "cell_type": "markdown",
      "metadata": {
        "id": "view-in-github",
        "colab_type": "text"
      },
      "source": [
        "<a href=\"https://colab.research.google.com/github/ozroutinglab/xperiment-computervision/blob/main/Packt_YT/HandsOnComputerVision_OpenCV4KerasTF2/TranslationRotationTransformation.ipynb\" target=\"_parent\"><img src=\"https://colab.research.google.com/assets/colab-badge.svg\" alt=\"Open In Colab\"/></a>"
      ]
    },
    {
      "cell_type": "code",
      "source": [
        "# Image example download\n",
        "!curl -o 'images/logo.png' https://colab.research.google.com/img/colab_favicon_256px.png7"
      ],
      "metadata": {
        "id": "ZINjw1_zZDUC"
      },
      "execution_count": null,
      "outputs": []
    },
    {
      "cell_type": "code",
      "execution_count": null,
      "metadata": {
        "id": "hG3QfJXvAlm1"
      },
      "outputs": [],
      "source": [
        "import cv2\n",
        "import numpy as np\n",
        "\n",
        "# Only for Google Colab\n",
        "from google.colab.patches import cv2_imshow"
      ]
    },
    {
      "cell_type": "code",
      "source": [
        "# Load our image\n",
        "# image = cv2.imread('images/elephant.jpg')\n",
        "image = cv2.imread('images/logo.png')\n",
        "\n",
        "# For standard Jupyter notebook\n",
        "# cv2.imshow('Original Image', image)\n",
        "# Only for Google Colab\n",
        "cv2_imshow(image)\n",
        "\n",
        "cv2.waitKey()"
      ],
      "metadata": {
        "id": "ZekEB-H0VPlz"
      },
      "execution_count": null,
      "outputs": []
    }
  ]
}